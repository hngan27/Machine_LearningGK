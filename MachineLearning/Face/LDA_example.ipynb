{
  "cells": [
    {
      "cell_type": "code",
      "execution_count": 4,
      "metadata": {
        "id": "C3uS3L3s7h-y"
      },
      "outputs": [],
      "source": [
        "import numpy as np\n",
        "import os\n",
        "import  matplotlib.image as mpimg\n",
        "from scipy import misc\n",
        "from PIL import Image\n",
        "import matplotlib.pyplot as plt\n",
        "plt.show()"
      ]
    },
    {
      "cell_type": "code",
      "execution_count": 3,
      "metadata": {
        "colab": {
          "base_uri": "https://localhost:8080/"
        },
        "id": "yWfZH6ZL-1Bx",
        "outputId": "56a41fe9-8d52-4d38-f3a8-89775ebcef5b"
      },
      "outputs": [
        {
          "name": "stdout",
          "output_type": "stream",
          "text": [
            "fail\n"
          ]
        }
      ],
      "source": [
        "#load data\n",
        "path = \"orl_faces/s2/2.pgm\"\n",
        "try:  \n",
        "    img  = Image.open(path) \n",
        "except IOError: \n",
        "    print(\"fail\")"
      ]
    },
    {
      "cell_type": "code",
      "execution_count": null,
      "metadata": {
        "id": "b7tovoXI-331"
      },
      "outputs": [],
      "source": [
        "#hàm convert image sang vector\n",
        "def img_to_vector(filename):\n",
        "    img  = Image.open(filename).resize((112, 92)) \n",
        "    img_vector = np.array(img).flatten()\n",
        "    sz = img_vector.shape[0]\n",
        "    return img_vector"
      ]
    },
    {
      "cell_type": "code",
      "execution_count": null,
      "metadata": {
        "id": "pEweM0VZ_Q41"
      },
      "outputs": [],
      "source": [
        "#hàm tiền xử lý: đọc ảnh từ tập dữ liệu\n",
        "#đưa dữ liệu đọc được vào 2 mảng là train_set và test_set \n",
        "#train_set_number và test_set_number là id của những người trong tập train và test\n",
        "def preprocess(dataset_dir = \"./orl_faces\"):\n",
        "    train_set = []\n",
        "    train_set_number = []\n",
        "    test_set = []\n",
        "    test_set_number = []\n",
        "    for i in range(15):\n",
        "        person_id = i+1\n",
        "        for j in range(10):\n",
        "            if j < 6 :\n",
        "                path = dataset_dir + '/s'+str(person_id)+'/'+str(j+1)+'.pgm'\n",
        "                img = img_to_vector(path).astype(np.int64) \n",
        "                train_set.append(img)\n",
        "                train_set_number.append(person_id)\n",
        "            else : \n",
        "                path = dataset_dir + '/s'+str(person_id)+'/'+str(j+1)+'.pgm'\n",
        "                img = img_to_vector(path).astype(np.int64)\n",
        "                test_set.append(img)\n",
        "                test_set_number.append(person_id)\n",
        "        \n",
        "    train_set = np.array(train_set)\n",
        "    train_set_number = np.array(train_set_number)\n",
        "    test_set = np.array(test_set)\n",
        "    test_set_number = np.array(test_set_number)\n",
        "    return train_set.T, train_set_number, test_set.T, test_set_number"
      ]
    },
    {
      "cell_type": "code",
      "execution_count": null,
      "metadata": {
        "id": "fwhfWu7Y_ai-"
      },
      "outputs": [],
      "source": [
        "train_set,train_set_number,test_set,test_set_number = preprocess()"
      ]
    },
    {
      "cell_type": "code",
      "execution_count": null,
      "metadata": {
        "colab": {
          "base_uri": "https://localhost:8080/"
        },
        "id": "6_1U_AQS_d31",
        "outputId": "9c437871-dfb0-4e01-ae8c-7d490581070e"
      },
      "outputs": [
        {
          "name": "stdout",
          "output_type": "stream",
          "text": [
            "[[ 48  59  39 ...  39 117  39]\n",
            " [ 49  62  42 ...  40 120  41]\n",
            " [ 47  61  51 ...  39 121  39]\n",
            " ...\n",
            " [ 47  34  27 ...  32  77  39]\n",
            " [ 46  34  27 ...  34  76  38]\n",
            " [ 46  33  29 ...  39  72  40]]\n",
            "(10304, 90)\n"
          ]
        }
      ],
      "source": [
        "print(train_set)\n",
        "print(train_set.shape)"
      ]
    },
    {
      "cell_type": "code",
      "execution_count": null,
      "metadata": {
        "colab": {
          "base_uri": "https://localhost:8080/"
        },
        "id": "VUh6DWRB_glY",
        "outputId": "e3ea1c7f-5690-4a31-c8c6-1e42c766fbbc"
      },
      "outputs": [
        {
          "name": "stdout",
          "output_type": "stream",
          "text": [
            "[ 1  1  1  1  1  1  2  2  2  2  2  2  3  3  3  3  3  3  4  4  4  4  4  4\n",
            "  5  5  5  5  5  5  6  6  6  6  6  6  7  7  7  7  7  7  8  8  8  8  8  8\n",
            "  9  9  9  9  9  9 10 10 10 10 10 10 11 11 11 11 11 11 12 12 12 12 12 12\n",
            " 13 13 13 13 13 13 14 14 14 14 14 14 15 15 15 15 15 15]\n",
            "(90,)\n"
          ]
        }
      ],
      "source": [
        "print(train_set_number)\n",
        "print(train_set_number.shape)"
      ]
    },
    {
      "cell_type": "code",
      "execution_count": null,
      "metadata": {
        "colab": {
          "base_uri": "https://localhost:8080/"
        },
        "id": "aGj4Hibl_jHU",
        "outputId": "51e9c8b5-2dbf-4960-cc77-b53b96274bbb"
      },
      "outputs": [
        {
          "name": "stdout",
          "output_type": "stream",
          "text": [
            "[[ 16  44  41 ...  45 120 120]\n",
            " [ 35  43  41 ...  41 120 120]\n",
            " [ 45  37  43 ...  39 120 122]\n",
            " ...\n",
            " [ 37  44  42 ...  71  74  73]\n",
            " [ 36  41  43 ...  23  75  75]\n",
            " [ 37  36  41 ...  37  80  76]]\n",
            "(10304, 60)\n"
          ]
        }
      ],
      "source": [
        "print(test_set)\n",
        "print(test_set.shape)"
      ]
    },
    {
      "cell_type": "code",
      "execution_count": null,
      "metadata": {
        "colab": {
          "base_uri": "https://localhost:8080/"
        },
        "id": "9uBaB_Jn_kVY",
        "outputId": "bc1f3901-7b7a-439b-cf96-dba5016ae5bc"
      },
      "outputs": [
        {
          "name": "stdout",
          "output_type": "stream",
          "text": [
            "[ 1  1  1  1  2  2  2  2  3  3  3  3  4  4  4  4  5  5  5  5  6  6  6  6\n",
            "  7  7  7  7  8  8  8  8  9  9  9  9 10 10 10 10 11 11 11 11 12 12 12 12\n",
            " 13 13 13 13 14 14 14 14 15 15 15 15]\n",
            "(60,)\n"
          ]
        }
      ],
      "source": [
        "print(test_set_number)\n",
        "print(test_set_number.shape)"
      ]
    },
    {
      "cell_type": "code",
      "execution_count": null,
      "metadata": {
        "id": "YGL2C9zf_ob3"
      },
      "outputs": [],
      "source": [
        "#hàm tìm trung bình\n",
        "def find_mean(arr):\n",
        "    M = np.mean(arr, axis = 1)\n",
        "    return M"
      ]
    },
    {
      "cell_type": "code",
      "execution_count": null,
      "metadata": {
        "colab": {
          "base_uri": "https://localhost:8080/"
        },
        "id": "R9I3Stpm_pJY",
        "outputId": "beeb6795-44c7-4ce2-895b-238c9e5f91d2"
      },
      "outputs": [
        {
          "name": "stdout",
          "output_type": "stream",
          "text": [
            "[87.51111111 91.07777778 92.58888889 ... 59.11111111 58.35555556\n",
            " 58.23333333]\n"
          ]
        }
      ],
      "source": [
        "#tìm trung bình của ma trận tập train_set\n",
        "M = find_mean(train_set)\n",
        "print(M)"
      ]
    },
    {
      "cell_type": "code",
      "execution_count": null,
      "metadata": {
        "id": "Rh3LKI_P_tYa"
      },
      "outputs": [],
      "source": [
        "#tại mỗi giá trị của ma trận tập train_set, ta lấy giá trị đó trừ cho\n",
        "#giá trị trung bình vừa tìm được ở trên\n",
        "def mean_normalization(arr):\n",
        "    M = find_mean(arr)\n",
        "    x_range = arr.shape[0]\n",
        "    y_range = arr.shape[1]\n",
        "    for i in range(x_range):\n",
        "        for j in range(y_range):\n",
        "            arr[i][j] -= M[i]\n",
        "    return arr"
      ]
    },
    {
      "cell_type": "code",
      "execution_count": null,
      "metadata": {
        "id": "t0cmdYdH_wJQ"
      },
      "outputs": [],
      "source": [
        "#A là ma trận sau khi thực hiện hàm mean_normalize\n",
        "A = mean_normalization(train_set)\n",
        "A = A\n",
        "#print(A)"
      ]
    },
    {
      "cell_type": "code",
      "execution_count": null,
      "metadata": {
        "colab": {
          "base_uri": "https://localhost:8080/"
        },
        "id": "Crx5P5-9_x4c",
        "outputId": "2c977483-6633-4096-df06-6654008596c7"
      },
      "outputs": [
        {
          "name": "stdout",
          "output_type": "stream",
          "text": [
            "(10304, 90)\n"
          ]
        }
      ],
      "source": [
        "print(A.shape)"
      ]
    },
    {
      "cell_type": "code",
      "execution_count": null,
      "metadata": {
        "colab": {
          "base_uri": "https://localhost:8080/"
        },
        "id": "SHEluVqq_zyp",
        "outputId": "3749cdf8-e7fb-48fe-dee7-74a4c317bb3b"
      },
      "outputs": [
        {
          "name": "stdout",
          "output_type": "stream",
          "text": [
            "(90, 90)\n",
            "[[11727307  4194490  6683989 ...   -23821 -3071337   248621]\n",
            " [ 4194490 23296794  7755626 ...   350283  -795440  1264478]\n",
            " [ 6683989  7755626 15911800 ...  -992690 -2771586   981391]\n",
            " ...\n",
            " [  -23821   350283  -992690 ... 10795373   565882  6505605]\n",
            " [-3071337  -795440 -2771586 ...   565882  8305035  -172163]\n",
            " [  248621  1264478   981391 ...  6505605  -172163 10386103]]\n"
          ]
        }
      ],
      "source": [
        "#nhân A với ma trận chỉnh vị của nó\n",
        "L = np.dot(A.T, A)\n",
        "print(L.shape)\n",
        "print(L)"
      ]
    },
    {
      "cell_type": "code",
      "execution_count": null,
      "metadata": {
        "colab": {
          "base_uri": "https://localhost:8080/"
        },
        "id": "jtM33BWF_0jj",
        "outputId": "e7fc8b43-38b4-45f7-d231-b59725dbac80"
      },
      "outputs": [
        {
          "name": "stdout",
          "output_type": "stream",
          "text": [
            "eigenvalues shape :  (90,)\n",
            "eigenvalues :  [2.47127240e+08 1.88571579e+08 1.06082686e+08 1.00140743e+08\n",
            " 7.66564555e+07 6.18354478e+07 4.81852242e+07 3.95228371e+07\n",
            " 3.47722119e+07 2.89910366e+07 2.48267104e+07 2.08764699e+07\n",
            " 2.00051121e+07 1.79737001e+07 1.67152706e+07 1.59973213e+07\n",
            " 1.39400190e+07 1.39829934e+07 1.25274060e+07 1.22177124e+07\n",
            " 1.06977647e+07 1.00379037e+07 9.48350162e+06 8.29103269e+06\n",
            " 7.73518794e+06 7.06524088e+06 6.91380226e+06 6.87421432e+06\n",
            " 6.51295894e+06 6.48203081e+06 6.10516300e+06 5.81054179e+06\n",
            " 5.63957943e+06 5.17224045e+06 5.06241194e+06 7.63389103e+04\n",
            " 4.90714380e+06 4.71870181e+06 4.48641290e+06 4.43855232e+06\n",
            " 4.32861662e+06 4.10641925e+06 6.95821879e+05 3.94037648e+06\n",
            " 4.01876811e+06 3.72422355e+06 3.69023253e+06 9.99945120e+05\n",
            " 1.05438254e+06 3.58811833e+06 3.49345960e+06 3.44472223e+06\n",
            " 3.41940801e+06 1.14552123e+06 1.15799330e+06 1.21456833e+06\n",
            " 1.25573301e+06 1.27234992e+06 3.28009202e+06 3.22198937e+06\n",
            " 3.10395595e+06 1.36840004e+06 1.39263399e+06 1.42597482e+06\n",
            " 1.44333478e+06 3.00008005e+06 2.95581502e+06 2.91989408e+06\n",
            " 1.55580742e+06 1.61471078e+06 2.78687052e+06 1.64110200e+06\n",
            " 2.72395390e+06 1.70843322e+06 1.79863056e+06 2.66290414e+06\n",
            " 1.86429532e+06 2.10868641e+06 1.97104978e+06 2.59773439e+06\n",
            " 2.40296949e+06 2.34655788e+06 2.22126549e+06 1.94876714e+06\n",
            " 1.88729242e+06 2.04515885e+06 2.57645295e+06 2.27637453e+06\n",
            " 2.24776926e+06 2.30208898e+06]\n",
            "eigenvectors shape :  (90, 90)\n",
            "eigenvectors :  [[-0.00982642 -0.02913923  0.17274312 ...  0.12348817 -0.04296872\n",
            "  -0.02246911]\n",
            " [-0.10141841 -0.19918748  0.12749829 ... -0.12503943 -0.08572361\n",
            "  -0.13013599]\n",
            " [-0.09659101 -0.05334275  0.16900439 ... -0.08928755 -0.0483145\n",
            "   0.07593282]\n",
            " ...\n",
            " [ 0.00366818  0.07210534 -0.00393953 ... -0.07521404 -0.11338385\n",
            "  -0.08040903]\n",
            " [ 0.0239681  -0.00987873 -0.0314809  ...  0.12286853  0.04923471\n",
            "   0.19255926]\n",
            " [-0.03740114  0.05974221  0.00464151 ... -0.25490552  0.0659784\n",
            "   0.20906778]]\n"
          ]
        }
      ],
      "source": [
        "eigenvalues, eigenvectors = np.linalg.eig(L)\n",
        "# sort eigenvectors theo giá trị của eigenvalues\n",
        "print(\"eigenvalues shape : \", eigenvalues.shape)\n",
        "print(\"eigenvalues : \", eigenvalues)\n",
        "print(\"eigenvectors shape : \", eigenvectors.shape)\n",
        "print(\"eigenvectors : \", eigenvectors)"
      ]
    },
    {
      "cell_type": "code",
      "execution_count": null,
      "metadata": {
        "colab": {
          "base_uri": "https://localhost:8080/"
        },
        "id": "bGRb7if0_4-R",
        "outputId": "e1c85ca0-491e-4cb9-8fbb-3030015146aa"
      },
      "outputs": [
        {
          "name": "stdout",
          "output_type": "stream",
          "text": [
            "(10304, 90)\n",
            "[[ 119.52285413  -64.02921134  -41.87783606 ...   23.38498888\n",
            "    40.20529137  -10.49139841]\n",
            " [ 157.52692856 -138.28564869  -28.50162529 ...    6.85043499\n",
            "    10.4359597     3.42251783]\n",
            " [ 173.05874426 -163.87482997  -25.79257688 ...    2.46565233\n",
            "    -0.20323549   12.02044124]\n",
            " ...\n",
            " [ -41.82917094  -40.09296523  -78.94334686 ...   14.38039674\n",
            "    -5.24537964   14.67280743]\n",
            " [ -26.66860579  -46.92099288  -66.52558913 ...   17.16789561\n",
            "    -6.46485104   16.92424866]\n",
            " [  -2.42317401  -57.20274448  -57.85261544 ...   18.58900217\n",
            "    -5.35270376   22.26584086]]\n"
          ]
        }
      ],
      "source": [
        "U = []\n",
        "sz = L.shape[0] #L là kết quả thu được khi nhân A với A.T\n",
        "#nhân ma trận A với eigenvectors có bậc nằm trong khoảng sz\n",
        "#kết quả từng phép nhân đó được thêm vào ma trận U\n",
        "for i in range(sz):\n",
        "    U.append(np.dot(A,eigenvectors[:,i]))\n",
        "\n",
        "U = np.array(U)\n",
        "U = U.T\n",
        "print(U.shape)\n",
        "print(U)"
      ]
    },
    {
      "cell_type": "code",
      "execution_count": null,
      "metadata": {
        "colab": {
          "base_uri": "https://localhost:8080/"
        },
        "id": "7JWJW5EW_7Ob",
        "outputId": "93c59725-f8f7-46aa-9037-6deed21155ea"
      },
      "outputs": [
        {
          "name": "stdout",
          "output_type": "stream",
          "text": [
            "(90, 90)\n",
            "[[ -2428375.74199202 -25063250.60619882 -23870270.71387946 ...\n",
            "     906508.05287782   5923170.14052308  -9242839.46859596]\n",
            " [ -5494829.7158517  -37561097.43225766 -10058927.14806259 ...\n",
            "   13597017.10850819  -1862846.92406132  11265682.51362844]\n",
            " [ 18325054.41057583  13525361.08393978  17928439.64324552 ...\n",
            "    -417916.1239171   -3339577.89779013    492383.70978795]\n",
            " ...\n",
            " [   281105.32517653   -284636.57309796   -203251.91052953 ...\n",
            "    -171215.32646557    279694.80126659   -580260.42936954]\n",
            " [   -96583.77455222   -192686.89874817   -108599.84596647 ...\n",
            "    -254860.73918091    110668.26776897    148304.21643895]\n",
            " [   -51725.89728851   -299584.63416815    174804.11074535 ...\n",
            "    -185108.7406542     443288.54864473    481292.62761833]]\n"
          ]
        }
      ],
      "source": [
        "#weight_vector là kq khi nhân chỉnh vị của U và A\n",
        "weight_vector = np.dot(U.T, A)\n",
        "print(weight_vector.shape)\n",
        "print(weight_vector)"
      ]
    },
    {
      "cell_type": "code",
      "execution_count": null,
      "metadata": {
        "colab": {
          "base_uri": "https://localhost:8080/"
        },
        "id": "ybVQYeeG_9nO",
        "outputId": "7ef8f067-71b2-4ddd-f520-b186f78dea0b"
      },
      "outputs": [
        {
          "name": "stdout",
          "output_type": "stream",
          "text": [
            "(90, 1)\n"
          ]
        }
      ],
      "source": [
        "#tính overall mean bằng cách tính mean của ma trận weight vừa tính\n",
        "overall_mean = np.mean(weight_vector, axis = 1)\n",
        "overall_mean = overall_mean.reshape(overall_mean.shape[0],1)\n",
        "print(overall_mean.shape)"
      ]
    },
    {
      "cell_type": "code",
      "execution_count": null,
      "metadata": {
        "id": "mS-E5HUg__ic"
      },
      "outputs": [],
      "source": [
        "#tìm within class Sw\n",
        "#tìm mean cho từng class riêng lẻ\n",
        "#số class là 15 (vì tập dữ liệu có 15 người)\n",
        "SW = np.zeros([90,90])\n",
        "for i in range(15):\n",
        "    ind = i * 6\n",
        "    V = weight_vector[:,ind:ind+6]\n",
        "    mean_local = np.mean(V, axis = 1)\n",
        "    mean_local = mean_local.reshape(mean_local.shape[0],1)\n",
        "    mean = np.repeat(mean_local, 6,axis = 1)\n",
        "    diff = V - mean\n",
        "    variance = np.dot(diff, diff.T)\n",
        "    SW = SW + variance"
      ]
    },
    {
      "cell_type": "code",
      "execution_count": null,
      "metadata": {
        "colab": {
          "base_uri": "https://localhost:8080/"
        },
        "id": "wQBD5bZAAMSx",
        "outputId": "5649c37a-c854-4a72-f510-a1bc2f95d1c1"
      },
      "outputs": [
        {
          "name": "stdout",
          "output_type": "stream",
          "text": [
            "(90, 90)\n"
          ]
        }
      ],
      "source": [
        "#tìm between class Sb\n",
        "SB = np.zeros([90,90])\n",
        "print(variance.shape)\n",
        "for i in range(15):\n",
        "    j = i+6\n",
        "    V = weight_vector[:,i:j]\n",
        "    mean_local = np.mean(V, axis = 1)\n",
        "    mean_local = mean_local.reshape(mean_local.shape[0],1)\n",
        "    diff = mean_local - overall_mean\n",
        "    sigma = np.dot(diff, mean_local.T)\n",
        "    SB = SB  + sigma"
      ]
    },
    {
      "cell_type": "code",
      "execution_count": null,
      "metadata": {
        "colab": {
          "base_uri": "https://localhost:8080/"
        },
        "id": "pE3rHctiAcyZ",
        "outputId": "81490d91-1bdf-4ad8-e37d-7b841808820c"
      },
      "outputs": [
        {
          "name": "stdout",
          "output_type": "stream",
          "text": [
            "(90, 90)\n"
          ]
        }
      ],
      "source": [
        "#finding the criterion function\n",
        "#maximises between class (Sb) và minimizes within class (Sw)\n",
        "J = np.dot(np.linalg.pinv(SW), SB)\n",
        "print(J.shape)"
      ]
    },
    {
      "cell_type": "code",
      "execution_count": null,
      "metadata": {
        "colab": {
          "base_uri": "https://localhost:8080/"
        },
        "id": "J4YHjz6jAe2J",
        "outputId": "723c47a5-fb26-439b-9812-26648c053b42"
      },
      "outputs": [
        {
          "name": "stdout",
          "output_type": "stream",
          "text": [
            "(90, 90)\n"
          ]
        }
      ],
      "source": [
        "#tìm eigenvalues và eigenvectors của ma trận J\n",
        "eigenval, eigenvec = np.linalg.eig(J)\n",
        "fisher_faces = np.dot(eigenvec.T, weight_vector)\n",
        "print(fisher_faces.shape)"
      ]
    },
    {
      "cell_type": "code",
      "execution_count": null,
      "metadata": {
        "colab": {
          "base_uri": "https://localhost:8080/"
        },
        "id": "VnJz5pgaAhob",
        "outputId": "e410756d-de98-4168-f2ef-2121dcbc2f88"
      },
      "outputs": [
        {
          "name": "stdout",
          "output_type": "stream",
          "text": [
            "[87.51111111 91.07777778 92.58888889 ... 59.11111111 58.35555556\n",
            " 58.23333333]\n",
            "[[ 16  44  41 ...  45 120 120]\n",
            " [ 35  43  41 ...  41 120 120]\n",
            " [ 45  37  43 ...  39 120 122]\n",
            " ...\n",
            " [ 37  44  42 ...  71  74  73]\n",
            " [ 36  41  43 ...  23  75  75]\n",
            " [ 37  36  41 ...  37  80  76]]\n",
            "(10304, 60)\n",
            "[[-71 -43 -46 ... -42  32  32]\n",
            " [-56 -48 -50 ... -50  28  28]\n",
            " [-47 -55 -49 ... -53  27  29]\n",
            " ...\n",
            " [-22 -15 -17 ...  11  14  13]\n",
            " [-22 -17 -15 ... -35  16  16]\n",
            " [-21 -22 -17 ... -21  21  17]]\n"
          ]
        }
      ],
      "source": [
        "#Bắt đầu công đoạn test\n",
        "#thực hiện tương tự như tập train_set\n",
        "x_range = test_set.shape[0]\n",
        "y_range = test_set.shape[1]\n",
        "print(M)\n",
        "print(test_set)\n",
        "for i in range(x_range):\n",
        "    for j in range(y_range):\n",
        "        test_set[i][j] -= M[i]\n",
        "print(test_set.shape)\n",
        "print(test_set)"
      ]
    },
    {
      "cell_type": "code",
      "execution_count": null,
      "metadata": {
        "colab": {
          "base_uri": "https://localhost:8080/"
        },
        "id": "fuPOUihbAkgy",
        "outputId": "7efb73b3-743e-485b-e8ba-eff24f3387dc"
      },
      "outputs": [
        {
          "name": "stdout",
          "output_type": "stream",
          "text": [
            "(90, 60)\n",
            "[[-1.65685549e+07 -2.97139328e+07 -2.30519021e+07 ...  2.32267557e+06\n",
            "  -5.08124314e+05  7.16963417e+06]\n",
            " [-1.85998564e+07 -1.58021693e+07 -2.98786330e+07 ...  1.36447921e+07\n",
            "   1.30940027e+06 -3.91965017e+06]\n",
            " [ 1.77043510e+07  4.61872923e+06  3.61955749e+06 ...  1.00388106e+06\n",
            "  -3.08896873e+06 -4.48360409e+06]\n",
            " ...\n",
            " [-1.02958716e+05  1.14122138e+05 -2.05210857e+05 ...  2.24738674e+05\n",
            "   6.55102939e+04 -8.59359133e+04]\n",
            " [ 7.89346415e+03 -1.01434976e+05 -1.00567738e+05 ...  2.80706097e+04\n",
            "   4.07583239e+04 -6.93032348e+04]\n",
            " [-9.29409113e+04  5.58287172e+03 -1.48434079e+05 ... -1.52501285e+05\n",
            "   1.15647774e+05 -7.51193974e+04]]\n"
          ]
        }
      ],
      "source": [
        "weight_vector_test = np.dot(U.T, test_set)\n",
        "print(weight_vector_test.shape)\n",
        "print(weight_vector_test)"
      ]
    },
    {
      "cell_type": "code",
      "execution_count": null,
      "metadata": {
        "colab": {
          "base_uri": "https://localhost:8080/"
        },
        "id": "u_YjICrAAmvj",
        "outputId": "84bd0034-7ee4-4938-e08f-45fbff22204d"
      },
      "outputs": [
        {
          "name": "stdout",
          "output_type": "stream",
          "text": [
            "(90, 60)\n"
          ]
        }
      ],
      "source": [
        "projected_fisher_faces = np.dot(eigenvec.T, weight_vector_test)\n",
        "print(projected_fisher_faces.shape)"
      ]
    },
    {
      "cell_type": "code",
      "execution_count": null,
      "metadata": {
        "id": "31B5BJKVApRt"
      },
      "outputs": [],
      "source": [
        "#finding the norm between each projected_fisher_faces with that of fisher_faces and then finding the best match\n",
        "validation = []\n",
        "count = 0\n",
        "for i in range(60) : \n",
        "    ith_wv = projected_fisher_faces[:,i]\n",
        "    ans = 0\n",
        "    index = 0\n",
        "    for j in range(90):\n",
        "        jth_wv = fisher_faces[:,j]\n",
        "        diff = ith_wv - jth_wv\n",
        "        diff = np.absolute(diff)\n",
        "        sm = np.sum(diff)\n",
        "        if ans == 0 :\n",
        "            ans = sm\n",
        "            index = j\n",
        "        else :\n",
        "            if sm < ans:\n",
        "                ans = sm\n",
        "                index = j\n",
        "    if train_set_number[index] == test_set_number[i]:\n",
        "        count = count + 1\n",
        "        validation.append(1)\n",
        "    else:\n",
        "        validation.append(0)"
      ]
    },
    {
      "cell_type": "code",
      "execution_count": null,
      "metadata": {
        "colab": {
          "base_uri": "https://localhost:8080/"
        },
        "id": "pp-i0miKA28o",
        "outputId": "4831cddf-9c4a-4cca-bae8-e1bc988828bf"
      },
      "outputs": [
        {
          "name": "stdout",
          "output_type": "stream",
          "text": [
            "[1, 1, 1, 1, 1, 1, 1, 1, 1, 1, 1, 1, 1, 1, 1, 1, 1, 1, 1, 1, 1, 1, 1, 1, 1, 1, 1, 1, 1, 1, 1, 1, 1, 1, 1, 1, 1, 1, 0, 0, 1, 0, 1, 1, 1, 1, 1, 1, 1, 1, 1, 1, 1, 1, 1, 1, 1, 1, 1, 1]\n"
          ]
        }
      ],
      "source": [
        "print(validation)"
      ]
    },
    {
      "cell_type": "code",
      "execution_count": null,
      "metadata": {
        "colab": {
          "base_uri": "https://localhost:8080/"
        },
        "id": "odpOKF3bA484",
        "outputId": "aef67b06-8d10-4221-8552-9332dd4ad53a"
      },
      "outputs": [
        {
          "name": "stdout",
          "output_type": "stream",
          "text": [
            "accuracy =  95.0 %\n"
          ]
        }
      ],
      "source": [
        "print(\"accuracy = \", (count*100)/60, \"%\")"
      ]
    }
  ],
  "metadata": {
    "colab": {
      "collapsed_sections": [],
      "name": "LDA-new.ipynb",
      "provenance": []
    },
    "kernelspec": {
      "display_name": "Python 3",
      "name": "python3"
    },
    "language_info": {
      "codemirror_mode": {
        "name": "ipython",
        "version": 3
      },
      "file_extension": ".py",
      "mimetype": "text/x-python",
      "name": "python",
      "nbconvert_exporter": "python",
      "pygments_lexer": "ipython3",
      "version": "3.10.8"
    }
  },
  "nbformat": 4,
  "nbformat_minor": 0
}
