{
  "cells": [
    {
      "cell_type": "code",
      "execution_count": 1,
      "metadata": {
        "colab": {
          "base_uri": "https://localhost:8080/"
        },
        "id": "ayd4Fxg1s5yV",
        "outputId": "81ab1145-cace-41ac-b070-3901eb0bc47e"
      },
      "outputs": [
        {
          "name": "stdout",
          "output_type": "stream",
          "text": [
            "Mounted at /content/drive\n"
          ]
        }
      ],
      "source": [
        "from google.colab import drive\n",
        "drive.mount('/content/drive')\n"
      ]
    },
    {
      "cell_type": "markdown",
      "metadata": {
        "id": "LvkOQTF2QgG7"
      },
      "source": [
        "## Import Data"
      ]
    },
    {
      "cell_type": "code",
      "execution_count": null,
      "metadata": {
        "execution": {
          "iopub.execute_input": "2023-10-09T05:47:06.731210Z",
          "iopub.status.busy": "2023-10-09T05:47:06.730774Z",
          "iopub.status.idle": "2023-10-09T05:47:18.731931Z",
          "shell.execute_reply": "2023-10-09T05:47:18.730857Z",
          "shell.execute_reply.started": "2023-10-09T05:47:06.731125Z"
        },
        "id": "rolv9fmXQgG_",
        "trusted": true
      },
      "outputs": [],
      "source": [
        "import numpy as np\n",
        "from tensorflow.keras.utils import to_categorical\n",
        "from google.colab import drive\n",
        "\n",
        "\n",
        "# Đường dẫn đầy đủ đến các tệp dữ liệu trên Google Drive\n",
        "x_train_path = '/content/drive/MyDrive/Dataset/MC/data_batch_2'\n",
        "y_train_path = '/content/drive/MyDrive/Dataset/MC/data_batch_2'\n",
        "x_test_path = '/content/drive/MyDrive/Dataset/MC/data_batch_2'\n",
        "y_test_path = '/content/drive/MyDrive/Dataset/MC/data_batch_2'\n",
        "\n",
        "x_train = np.load(x_train_path, allow_pickle=True)\n",
        "y_train = np.load(y_train_path, allow_pickle=True)\n",
        "x_test = np.load(x_test_path, allow_pickle=True)\n",
        "y_test = np.load(y_test_path, allow_pickle=True)\n",
        "\n",
        "print('Shape of x_train is {}'.format(x_train.shape))\n",
        "print('Shape of x_test is {}'.format(x_test.shape))\n",
        "print('Shape of y_train is {}'.format(y_train.shape))\n",
        "print('Shape of y_test is {}'.format(y_test.shape))\n",
        "\n",
        "# Normalizing\n",
        "x_train = x_train / 255\n",
        "x_test = x_test / 255\n",
        "\n",
        "# One hot encoding\n",
        "y_train_cat = to_categorical(y_train, 10)\n",
        "y_test_cat = to_categorical(y_test, 10)\n"
      ]
    },
    {
      "cell_type": "code",
      "execution_count": 1,
      "metadata": {
        "id": "Dr-Wci9Ps43M"
      },
      "outputs": [
        {
          "name": "stdout",
          "output_type": "stream",
          "text": [
            "Shape of x_train is (50000, 32, 32, 3)\n",
            "Shape of x_test is (10000, 32, 32, 3)\n",
            "Shape of y_train is (50000, 1)\n",
            "Shape of y_test is (10000, 1)\n"
          ]
        }
      ],
      "source": [
        "from tensorflow.keras.datasets import cifar10\n",
        "\n",
        "(x_train, y_train), (x_test, y_test)=cifar10.load_data()\n",
        "\n",
        "print('Shape of x_train is {}'.format(x_train.shape))\n",
        "print('Shape of x_test is {}'.format(x_test.shape))\n",
        "print('Shape of y_train is {}'.format(y_train.shape))\n",
        "print('Shape of y_test is {}'.format(y_test.shape))\n",
        "\n",
        "\n",
        "from tensorflow.keras.utils import to_categorical\n",
        "\n",
        "# Normalizing\n",
        "x_train=x_train/255\n",
        "x_test=x_test/255\n",
        "\n",
        "#One hot encoding\n",
        "y_train_cat=to_categorical(y_train,10)\n",
        "y_test_cat=to_categorical(y_test,10)"
      ]
    },
    {
      "cell_type": "markdown",
      "metadata": {
        "id": "74sqIi29QgHB"
      },
      "source": [
        "# VGGNet\n"
      ]
    },
    {
      "cell_type": "code",
      "execution_count": null,
      "metadata": {
        "execution": {
          "iopub.execute_input": "2023-10-09T05:47:18.734843Z",
          "iopub.status.busy": "2023-10-09T05:47:18.734167Z",
          "iopub.status.idle": "2023-10-09T05:47:18.745648Z",
          "shell.execute_reply": "2023-10-09T05:47:18.744597Z",
          "shell.execute_reply.started": "2023-10-09T05:47:18.734805Z"
        },
        "id": "PeqJsUcRQgHC",
        "trusted": true
      },
      "outputs": [],
      "source": [
        "# Importing the necessary libraries, which we may or may not use. Its always good idea to import them befor (if you remember) else we can do it at any point of time no problem.\n",
        "import tensorflow as tf\n",
        "from tensorflow.keras.models import Sequential\n",
        "from tensorflow.keras.layers import Conv2D,MaxPool2D,Dense,Flatten,Dropout,Input, AveragePooling2D, Activation,Conv2D, MaxPooling2D, BatchNormalization,Concatenate\n",
        "from tensorflow.keras.callbacks import EarlyStopping, TensorBoard\n",
        "from tensorflow.keras import regularizers, optimizers\n",
        "from tensorflow.keras.preprocessing.image import ImageDataGenerator"
      ]
    },
    {
      "cell_type": "code",
      "execution_count": null,
      "metadata": {
        "execution": {
          "iopub.execute_input": "2023-10-09T05:47:18.747563Z",
          "iopub.status.busy": "2023-10-09T05:47:18.747216Z",
          "iopub.status.idle": "2023-10-09T05:47:22.253104Z",
          "shell.execute_reply": "2023-10-09T05:47:22.252162Z",
          "shell.execute_reply.started": "2023-10-09T05:47:18.747531Z"
        },
        "id": "vENkbCr4QgHC",
        "trusted": true
      },
      "outputs": [],
      "source": [
        "from tensorflow.keras.layers import Input, Conv2D, MaxPool2D, Flatten, Dense, BatchNormalization, ReLU\n",
        "from tensorflow.keras import Model\n",
        "class VGGNet:\n",
        "\n",
        "    vgg16_configs = ((2, 64), (2, 128), (3, 256), (3, 512), (3, 512))\n",
        "\n",
        "    def __init__(self, num_classes=10, input_shape=(32, 32, 3), configs = vgg16_configs, name='VGG16'):\n",
        "        self.num_classes = num_classes\n",
        "        self.input_shape = input_shape\n",
        "        self.configs = configs\n",
        "        self.name = name\n",
        "\n",
        "    def _vgg_block(self, x, filters, num_convs):\n",
        "        for _ in range(num_convs):\n",
        "            x = Conv2D(filters=filters, kernel_size =3, padding ='same')(x)\n",
        "            x = BatchNormalization()(x)\n",
        "            x = ReLU()(x)\n",
        "        x = MaxPool2D(pool_size=2, strides=2, padding='same')(x)\n",
        "        return x\n",
        "\n",
        "    def build(self):\n",
        "\n",
        "        # VGGNet\n",
        "        input_layer = Input(shape=self.input_shape)\n",
        "        x = input_layer\n",
        "        for (num_conv, filter) in self.configs:\n",
        "            x = self._vgg_block(x, filters=filter, num_convs=num_conv)\n",
        "\n",
        "        # Fully connected layers\n",
        "        x = Flatten()(x)\n",
        "        x = Dense(units=256, activation='relu')(x)\n",
        "        x = Dense(units=256, activation='relu')(x)\n",
        "        output = Dense(units=self.num_classes, activation='softmax')(x)\n",
        "\n",
        "        # Create the model\n",
        "        model = Model(inputs=input_layer, outputs=output, name=self.name)\n",
        "        return model\n",
        "\n",
        "configs = ((2, 64), (2, 128), (3, 256), (3, 512), (3, 512))\n",
        "vgg16 = VGGNet(num_classes=10, input_shape=(32, 32, 3), configs=configs).build()"
      ]
    },
    {
      "cell_type": "code",
      "execution_count": null,
      "metadata": {
        "colab": {
          "base_uri": "https://localhost:8080/"
        },
        "execution": {
          "iopub.execute_input": "2023-10-09T05:47:22.254638Z",
          "iopub.status.busy": "2023-10-09T05:47:22.254298Z",
          "iopub.status.idle": "2023-10-09T05:47:22.274269Z",
          "shell.execute_reply": "2023-10-09T05:47:22.273014Z",
          "shell.execute_reply.started": "2023-10-09T05:47:22.254604Z"
        },
        "id": "4U5sxzBTQgHD",
        "jupyter": {
          "outputs_hidden": true
        },
        "outputId": "57a8ee8d-fcbe-462c-9b12-fe5c7d2a333e",
        "trusted": true
      },
      "outputs": [
        {
          "name": "stdout",
          "output_type": "stream",
          "text": [
            "Model: \"VGG16\"\n",
            "_________________________________________________________________\n",
            " Layer (type)                Output Shape              Param #   \n",
            "=================================================================\n",
            " input_1 (InputLayer)        [(None, 32, 32, 3)]       0         \n",
            "                                                                 \n",
            " conv2d (Conv2D)             (None, 32, 32, 64)        1792      \n",
            "                                                                 \n",
            " batch_normalization (Batch  (None, 32, 32, 64)        256       \n",
            " Normalization)                                                  \n",
            "                                                                 \n",
            " re_lu (ReLU)                (None, 32, 32, 64)        0         \n",
            "                                                                 \n",
            " conv2d_1 (Conv2D)           (None, 32, 32, 64)        36928     \n",
            "                                                                 \n",
            " batch_normalization_1 (Bat  (None, 32, 32, 64)        256       \n",
            " chNormalization)                                                \n",
            "                                                                 \n",
            " re_lu_1 (ReLU)              (None, 32, 32, 64)        0         \n",
            "                                                                 \n",
            " max_pooling2d (MaxPooling2  (None, 16, 16, 64)        0         \n",
            " D)                                                              \n",
            "                                                                 \n",
            " conv2d_2 (Conv2D)           (None, 16, 16, 128)       73856     \n",
            "                                                                 \n",
            " batch_normalization_2 (Bat  (None, 16, 16, 128)       512       \n",
            " chNormalization)                                                \n",
            "                                                                 \n",
            " re_lu_2 (ReLU)              (None, 16, 16, 128)       0         \n",
            "                                                                 \n",
            " conv2d_3 (Conv2D)           (None, 16, 16, 128)       147584    \n",
            "                                                                 \n",
            " batch_normalization_3 (Bat  (None, 16, 16, 128)       512       \n",
            " chNormalization)                                                \n",
            "                                                                 \n",
            " re_lu_3 (ReLU)              (None, 16, 16, 128)       0         \n",
            "                                                                 \n",
            " max_pooling2d_1 (MaxPoolin  (None, 8, 8, 128)         0         \n",
            " g2D)                                                            \n",
            "                                                                 \n",
            " conv2d_4 (Conv2D)           (None, 8, 8, 256)         295168    \n",
            "                                                                 \n",
            " batch_normalization_4 (Bat  (None, 8, 8, 256)         1024      \n",
            " chNormalization)                                                \n",
            "                                                                 \n",
            " re_lu_4 (ReLU)              (None, 8, 8, 256)         0         \n",
            "                                                                 \n",
            " conv2d_5 (Conv2D)           (None, 8, 8, 256)         590080    \n",
            "                                                                 \n",
            " batch_normalization_5 (Bat  (None, 8, 8, 256)         1024      \n",
            " chNormalization)                                                \n",
            "                                                                 \n",
            " re_lu_5 (ReLU)              (None, 8, 8, 256)         0         \n",
            "                                                                 \n",
            " conv2d_6 (Conv2D)           (None, 8, 8, 256)         590080    \n",
            "                                                                 \n",
            " batch_normalization_6 (Bat  (None, 8, 8, 256)         1024      \n",
            " chNormalization)                                                \n",
            "                                                                 \n",
            " re_lu_6 (ReLU)              (None, 8, 8, 256)         0         \n",
            "                                                                 \n",
            " max_pooling2d_2 (MaxPoolin  (None, 4, 4, 256)         0         \n",
            " g2D)                                                            \n",
            "                                                                 \n",
            " conv2d_7 (Conv2D)           (None, 4, 4, 512)         1180160   \n",
            "                                                                 \n",
            " batch_normalization_7 (Bat  (None, 4, 4, 512)         2048      \n",
            " chNormalization)                                                \n",
            "                                                                 \n",
            " re_lu_7 (ReLU)              (None, 4, 4, 512)         0         \n",
            "                                                                 \n",
            " conv2d_8 (Conv2D)           (None, 4, 4, 512)         2359808   \n",
            "                                                                 \n",
            " batch_normalization_8 (Bat  (None, 4, 4, 512)         2048      \n",
            " chNormalization)                                                \n",
            "                                                                 \n",
            " re_lu_8 (ReLU)              (None, 4, 4, 512)         0         \n",
            "                                                                 \n",
            " conv2d_9 (Conv2D)           (None, 4, 4, 512)         2359808   \n",
            "                                                                 \n",
            " batch_normalization_9 (Bat  (None, 4, 4, 512)         2048      \n",
            " chNormalization)                                                \n",
            "                                                                 \n",
            " re_lu_9 (ReLU)              (None, 4, 4, 512)         0         \n",
            "                                                                 \n",
            " max_pooling2d_3 (MaxPoolin  (None, 2, 2, 512)         0         \n",
            " g2D)                                                            \n",
            "                                                                 \n",
            " conv2d_10 (Conv2D)          (None, 2, 2, 512)         2359808   \n",
            "                                                                 \n",
            " batch_normalization_10 (Ba  (None, 2, 2, 512)         2048      \n",
            " tchNormalization)                                               \n",
            "                                                                 \n",
            " re_lu_10 (ReLU)             (None, 2, 2, 512)         0         \n",
            "                                                                 \n",
            " conv2d_11 (Conv2D)          (None, 2, 2, 512)         2359808   \n",
            "                                                                 \n",
            " batch_normalization_11 (Ba  (None, 2, 2, 512)         2048      \n",
            " tchNormalization)                                               \n",
            "                                                                 \n",
            " re_lu_11 (ReLU)             (None, 2, 2, 512)         0         \n",
            "                                                                 \n",
            " conv2d_12 (Conv2D)          (None, 2, 2, 512)         2359808   \n",
            "                                                                 \n",
            " batch_normalization_12 (Ba  (None, 2, 2, 512)         2048      \n",
            " tchNormalization)                                               \n",
            "                                                                 \n",
            " re_lu_12 (ReLU)             (None, 2, 2, 512)         0         \n",
            "                                                                 \n",
            " max_pooling2d_4 (MaxPoolin  (None, 1, 1, 512)         0         \n",
            " g2D)                                                            \n",
            "                                                                 \n",
            " flatten (Flatten)           (None, 512)               0         \n",
            "                                                                 \n",
            " dense (Dense)               (None, 256)               131328    \n",
            "                                                                 \n",
            " dense_1 (Dense)             (None, 256)               65792     \n",
            "                                                                 \n",
            " dense_2 (Dense)             (None, 10)                2570      \n",
            "                                                                 \n",
            "=================================================================\n",
            "Total params: 14931274 (56.96 MB)\n",
            "Trainable params: 14922826 (56.93 MB)\n",
            "Non-trainable params: 8448 (33.00 KB)\n",
            "_________________________________________________________________\n"
          ]
        }
      ],
      "source": [
        "from tensorflow.keras.optimizers import Adam\n",
        "opt = Adam(\n",
        "    learning_rate=0.0002,\n",
        "    beta_1=0.96,\n",
        "    beta_2=0.9994,\n",
        "    epsilon=4e-08,\n",
        "    amsgrad=False,\n",
        "    name='Adam')\n",
        "\n",
        "vgg16.compile(loss='categorical_crossentropy',optimizer=opt,metrics=['accuracy'])\n",
        "vgg16.summary()"
      ]
    },
    {
      "cell_type": "code",
      "execution_count": null,
      "metadata": {
        "colab": {
          "base_uri": "https://localhost:8080/"
        },
        "execution": {
          "iopub.execute_input": "2023-10-09T05:47:22.277726Z",
          "iopub.status.busy": "2023-10-09T05:47:22.276774Z",
          "iopub.status.idle": "2023-10-09T06:03:55.571347Z",
          "shell.execute_reply": "2023-10-09T06:03:55.570307Z",
          "shell.execute_reply.started": "2023-10-09T05:47:22.277692Z"
        },
        "id": "2Bnx8UDqQgHD",
        "outputId": "a1b28cfc-0827-47ea-9306-3480c1464214",
        "trusted": true
      },
      "outputs": [
        {
          "name": "stdout",
          "output_type": "stream",
          "text": [
            "Epoch 1/20\n",
            "1563/1563 [==============================] - 77s 35ms/step - loss: 1.3088 - accuracy: 0.5228 - val_loss: 1.1904 - val_accuracy: 0.6028\n",
            "Epoch 2/20\n",
            "1563/1563 [==============================] - 51s 33ms/step - loss: 0.8443 - accuracy: 0.7060 - val_loss: 0.9460 - val_accuracy: 0.6803\n",
            "Epoch 3/20\n",
            "1563/1563 [==============================] - 54s 34ms/step - loss: 0.6422 - accuracy: 0.7799 - val_loss: 0.8856 - val_accuracy: 0.7048\n",
            "Epoch 4/20\n",
            "1563/1563 [==============================] - 54s 35ms/step - loss: 0.5055 - accuracy: 0.8284 - val_loss: 0.8210 - val_accuracy: 0.7445\n",
            "Epoch 5/20\n",
            "1563/1563 [==============================] - 54s 35ms/step - loss: 0.4107 - accuracy: 0.8610 - val_loss: 0.5717 - val_accuracy: 0.8075\n",
            "Epoch 6/20\n",
            "1563/1563 [==============================] - 52s 33ms/step - loss: 0.3262 - accuracy: 0.8898 - val_loss: 0.7733 - val_accuracy: 0.7625\n",
            "Epoch 7/20\n",
            "1563/1563 [==============================] - 52s 33ms/step - loss: 0.2633 - accuracy: 0.9114 - val_loss: 0.5468 - val_accuracy: 0.8224\n",
            "Epoch 8/20\n",
            "1563/1563 [==============================] - 54s 34ms/step - loss: 0.2138 - accuracy: 0.9256 - val_loss: 0.8203 - val_accuracy: 0.7767\n",
            "Epoch 9/20\n",
            "1563/1563 [==============================] - 51s 33ms/step - loss: 0.1678 - accuracy: 0.9440 - val_loss: 0.7026 - val_accuracy: 0.8089\n",
            "Epoch 10/20\n",
            "1563/1563 [==============================] - 53s 34ms/step - loss: 0.1447 - accuracy: 0.9514 - val_loss: 0.7389 - val_accuracy: 0.8101\n",
            "Epoch 11/20\n",
            "1563/1563 [==============================] - 53s 34ms/step - loss: 0.1182 - accuracy: 0.9595 - val_loss: 0.8432 - val_accuracy: 0.7840\n",
            "Epoch 12/20\n",
            "1563/1563 [==============================] - 51s 33ms/step - loss: 0.1039 - accuracy: 0.9654 - val_loss: 0.9977 - val_accuracy: 0.7489\n",
            "Epoch 13/20\n",
            "1563/1563 [==============================] - 51s 33ms/step - loss: 0.0941 - accuracy: 0.9685 - val_loss: 0.6812 - val_accuracy: 0.8275\n",
            "Epoch 14/20\n",
            "1563/1563 [==============================] - 53s 34ms/step - loss: 0.0774 - accuracy: 0.9742 - val_loss: 0.7423 - val_accuracy: 0.8208\n",
            "Epoch 15/20\n",
            "1563/1563 [==============================] - 51s 33ms/step - loss: 0.0736 - accuracy: 0.9748 - val_loss: 0.6409 - val_accuracy: 0.8367\n",
            "Epoch 16/20\n",
            "1563/1563 [==============================] - 51s 33ms/step - loss: 0.0681 - accuracy: 0.9776 - val_loss: 0.7484 - val_accuracy: 0.8152\n",
            "Epoch 17/20\n",
            "1563/1563 [==============================] - 53s 34ms/step - loss: 0.0618 - accuracy: 0.9794 - val_loss: 0.8251 - val_accuracy: 0.8137\n",
            "Epoch 18/20\n",
            "1563/1563 [==============================] - 51s 33ms/step - loss: 0.0562 - accuracy: 0.9821 - val_loss: 0.7896 - val_accuracy: 0.8213\n",
            "Epoch 19/20\n",
            "1563/1563 [==============================] - 51s 33ms/step - loss: 0.0529 - accuracy: 0.9831 - val_loss: 0.8369 - val_accuracy: 0.8263\n",
            "Epoch 20/20\n",
            "1563/1563 [==============================] - 51s 33ms/step - loss: 0.0504 - accuracy: 0.9839 - val_loss: 0.7861 - val_accuracy: 0.8274\n",
            "313/313 [==============================] - 3s 9ms/step - loss: 0.7861 - accuracy: 0.8274\n",
            "Test Accuracy: 0.8274000287055969\n"
          ]
        }
      ],
      "source": [
        "history1 = vgg16.fit(x_train,y_train_cat,epochs=20,validation_data=(x_test,y_test_cat))\n",
        "evaluation = vgg16.evaluate(x_test, y_test_cat)\n",
        "print('Test Accuracy: {}'.format(evaluation[1]))"
      ]
    },
    {
      "cell_type": "code",
      "execution_count": null,
      "metadata": {
        "colab": {
          "base_uri": "https://localhost:8080/"
        },
        "execution": {
          "iopub.execute_input": "2023-10-09T06:03:55.573177Z",
          "iopub.status.busy": "2023-10-09T06:03:55.572808Z",
          "iopub.status.idle": "2023-10-09T06:03:57.571336Z",
          "shell.execute_reply": "2023-10-09T06:03:57.570307Z",
          "shell.execute_reply.started": "2023-10-09T06:03:55.573143Z"
        },
        "id": "l0dRBfFQQgHD",
        "outputId": "2e3abd3c-63e9-493f-97d3-6039a120ba86",
        "trusted": true
      },
      "outputs": [
        {
          "name": "stdout",
          "output_type": "stream",
          "text": [
            "313/313 [==============================] - 3s 10ms/step - loss: 0.7861 - accuracy: 0.8274\n",
            "Test Accuracy: 0.8274000287055969\n"
          ]
        }
      ],
      "source": [
        "evaluation = vgg16.evaluate(x_test, y_test_cat)\n",
        "print('Test Accuracy: {}'.format(evaluation[1]))\n"
      ]
    },
    {
      "cell_type": "code",
      "execution_count": null,
      "metadata": {
        "colab": {
          "base_uri": "https://localhost:8080/",
          "height": 560
        },
        "execution": {
          "iopub.execute_input": "2023-10-09T06:34:07.741593Z",
          "iopub.status.busy": "2023-10-09T06:34:07.741251Z",
          "iopub.status.idle": "2023-10-09T06:34:08.000753Z",
          "shell.execute_reply": "2023-10-09T06:34:07.999859Z",
          "shell.execute_reply.started": "2023-10-09T06:34:07.741565Z"
        },
        "id": "bgJ1dO1PQgHE",
        "outputId": "2114e706-d608-4978-97aa-e16fc0eaa96c",
        "trusted": true
      },
      "outputs": [
        {
          "data": {
            "text/plain": [
              "<matplotlib.legend.Legend at 0x78ff86178580>"
            ]
          },
          "execution_count": 7,
          "metadata": {},
          "output_type": "execute_result"
        },
        {
          "data": {
            "image/png": "[encoded data removed]",
            "text/plain": [
              "<Figure size 1200x600 with 1 Axes>"
            ]
          },
          "metadata": {},
          "output_type": "display_data"
        }
      ],
      "source": [
        "import matplotlib.pyplot as plt\n",
        "# Vẽ biểu đồ accuracy và loss trong quá trình huấn luyện\n",
        "plt.figure(figsize=(12, 6))\n",
        "plt.plot(history1.history['accuracy'], label='Training Accuracy')\n",
        "plt.plot(history1.history['val_accuracy'], label='Validation Accuracy')\n",
        "plt.xlabel('Epoch')\n",
        "plt.ylabel('Accuracy')\n",
        "plt.legend()"
      ]
    },
    {
      "cell_type": "code",
      "execution_count": null,
      "metadata": {
        "colab": {
          "base_uri": "https://localhost:8080/",
          "height": 542
        },
        "execution": {
          "iopub.execute_input": "2023-10-09T06:34:18.189152Z",
          "iopub.status.busy": "2023-10-09T06:34:18.188800Z",
          "iopub.status.idle": "2023-10-09T06:34:18.426852Z",
          "shell.execute_reply": "2023-10-09T06:34:18.425986Z",
          "shell.execute_reply.started": "2023-10-09T06:34:18.189122Z"
        },
        "id": "A8oV4zZlQgHE",
        "outputId": "abdaa2d4-d3d3-4fa4-a717-9bbbb7a9b1ef",
        "trusted": true
      },
      "outputs": [
        {
          "data": {
            "image/png": "[encoded data removed]",
            "text/plain": [
              "<Figure size 1200x600 with 1 Axes>"
            ]
          },
          "metadata": {},
          "output_type": "display_data"
        }
      ],
      "source": [
        "plt.figure(figsize=(12, 6))\n",
        "plt.plot(history1.history['loss'], label='Training Loss')\n",
        "plt.plot(history1.history['val_loss'], label='Validation Loss')\n",
        "plt.xlabel('Epoch')\n",
        "plt.ylabel('Loss')\n",
        "plt.legend()\n",
        "plt.show()"
      ]
    },
    {
      "cell_type": "code",
      "execution_count": null,
      "metadata": {
        "id": "Jvei6iYKrmOL"
      },
      "outputs": [],
      "source": []
    },
    {
      "cell_type": "markdown",
      "metadata": {
        "id": "c8LAjym-rof-"
      },
      "source": [
        "# DenseNet\n"
      ]
    },
    {
      "cell_type": "code",
      "execution_count": 2,
      "metadata": {
        "execution": {
          "iopub.execute_input": "2023-10-09T06:14:13.357252Z",
          "iopub.status.busy": "2023-10-09T06:14:13.356877Z",
          "iopub.status.idle": "2023-10-09T06:14:13.405884Z",
          "shell.execute_reply": "2023-10-09T06:14:13.405061Z",
          "shell.execute_reply.started": "2023-10-09T06:14:13.357223Z"
        },
        "id": "vjTlEAnBrof_",
        "trusted": true
      },
      "outputs": [],
      "source": [
        "import tensorflow as tf\n",
        "from tensorflow.keras import layers\n",
        "import math\n",
        "import sys\n",
        "\n",
        "class BottleNeck(tf.keras.Model):\n",
        "    def __init__(self, in_channels, growth_rate):\n",
        "        super(BottleNeck, self).__init__()\n",
        "        self.bn1 = layers.BatchNormalization()\n",
        "        self.conv1 = layers.Conv2D(4*growth_rate, kernel_size=1, use_bias=False)\n",
        "        self.bn2 = layers.BatchNormalization()\n",
        "        self.conv2 = layers.Conv2D(growth_rate, kernel_size=3, padding='same', use_bias=False)\n",
        "\n",
        "    def call(self, x):\n",
        "        out = self.conv1(tf.keras.activations.relu(self.bn1(x)))\n",
        "        out = self.conv2(tf.keras.activations.relu(self.bn2(out)))\n",
        "        out = layers.concatenate([out, x])\n",
        "        return out\n",
        "\n",
        "class Transition(tf.keras.Model):\n",
        "    def __init__(self, in_channels, out_channels):\n",
        "        super(Transition, self).__init__()\n",
        "        self.bn = layers.BatchNormalization()\n",
        "        self.conv = layers.Conv2D(out_channels, kernel_size=1, use_bias=False)\n",
        "        self.avg_pool2d = layers.AveragePooling2D(pool_size=2)\n",
        "\n",
        "    def call(self, x):\n",
        "        out = self.conv(tf.keras.activations.relu(self.bn(x)))\n",
        "        out = self.avg_pool2d(out)\n",
        "        return out\n",
        "\n",
        "class BuildDenseNet(tf.keras.Model):\n",
        "    def __init__(self, block, num_blocks, growth_rate=12, reduction=0.5, num_classes=10):\n",
        "        super(BuildDenseNet, self).__init__()\n",
        "        self.growth_rate = growth_rate\n",
        "\n",
        "        num_channels = 2*growth_rate\n",
        "        self.conv1 = layers.Conv2D(num_channels, kernel_size=3, padding='same', use_bias=False)\n",
        "\n",
        "        self.dense1 = self._make_layer(block, num_channels, num_blocks[0])\n",
        "        num_channels += num_blocks[0] * growth_rate\n",
        "        out_channels = int(math.floor(num_channels*reduction))\n",
        "        self.trans1 = Transition(num_channels, out_channels)\n",
        "        num_channels = out_channels\n",
        "\n",
        "        self.dense2 = self._make_layer(block, num_channels, num_blocks[1])\n",
        "        num_channels += num_blocks[1] * growth_rate\n",
        "        out_channels = int(math.floor(num_channels*reduction))\n",
        "        self.trans2 = Transition(num_channels, out_channels)\n",
        "        num_channels = out_channels\n",
        "\n",
        "        self.dense3 = self._make_layer(block, num_channels, num_blocks[2])\n",
        "        num_channels += num_blocks[2] * growth_rate\n",
        "        out_channels = int(math.floor(num_channels*reduction))\n",
        "        self.trans3 = Transition(num_channels, out_channels)\n",
        "        num_channels = out_channels\n",
        "\n",
        "        self.dense4 = self._make_layer(block, num_channels, num_blocks[3])\n",
        "        num_channels += num_blocks[3] * growth_rate\n",
        "\n",
        "        self.bn = layers.BatchNormalization()\n",
        "        self.avg_pool2d = layers.AveragePooling2D(pool_size=4)\n",
        "        self.flatten = layers.Flatten()\n",
        "        self.fc = layers.Dense(num_classes, activation='softmax')\n",
        "\n",
        "    def call(self, x):\n",
        "        out = self.conv1(x)\n",
        "        out = self.trans1(self.dense1(out))\n",
        "        out = self.trans2(self.dense2(out))\n",
        "        out = self.trans3(self.dense3(out))\n",
        "        out = tf.keras.activations.relu(self.bn(self.dense4(out)))\n",
        "        out = self.avg_pool2d(out)\n",
        "        out = self.flatten(out)\n",
        "        out = self.fc(out)\n",
        "        return out\n",
        "\n",
        "    def _make_layer(self, block, in_channels, num_block):\n",
        "        layer = []\n",
        "        for i in range(num_block):\n",
        "            layer += [block(in_channels, self.growth_rate)]\n",
        "            in_channels += self.growth_rate\n",
        "        return tf.keras.Sequential(layer)\n",
        "\n",
        "def DenseNet(model_type, num_classes):\n",
        "    if model_type == 'densenet121':\n",
        "        return BuildDenseNet(BottleNeck, [6, 12, 24, 16], growth_rate=32, num_classes=num_classes)\n",
        "    elif model_type == 'densenet161':\n",
        "        return BuildDenseNet(BottleNeck, [6, 12, 36, 24], growth_rate=48, num_classes=num_classes)\n",
        "    elif model_type == 'densenet169':\n",
        "        return BuildDenseNet(BottleNeck, [6, 12, 32, 32], growth_rate=32, num_classes=num_classes)\n",
        "    elif model_type == 'densenet201':\n",
        "        return BuildDenseNet(BottleNeck, [6, 12, 48, 32], growth_rate=32, num_classes=num_classes)\n",
        "    else:\n",
        "        sys.exit(ValueError(\"{:s} is currently not supported.\".format(model_type)))"
      ]
    },
    {
      "cell_type": "code",
      "execution_count": null,
      "metadata": {
        "execution": {
          "iopub.execute_input": "2023-10-09T06:14:16.268989Z",
          "iopub.status.busy": "2023-10-09T06:14:16.268535Z",
          "iopub.status.idle": "2023-10-09T06:14:16.300825Z",
          "shell.execute_reply": "2023-10-09T06:14:16.299992Z",
          "shell.execute_reply.started": "2023-10-09T06:14:16.268906Z"
        },
        "id": "ZikKS6Xhrof_",
        "trusted": true
      },
      "outputs": [
        {
          "name": "stdout",
          "output_type": "stream",
          "text": [
            "Epoch 1/10\n",
            "258/782 [========>.....................] - ETA: 14:32:29 - loss: 1.5957 - accuracy: 0.4136"
          ]
        }
      ],
      "source": [
        "from tensorflow.keras.datasets import cifar10\n",
        "from tensorflow.keras.utils import to_categorical\n",
        "from tensorflow.keras.optimizers import Adam\n",
        "\n",
        "(x_train, y_train), (x_test, y_test) = cifar10.load_data()\n",
        "\n",
        "x_train, x_test = x_train / 255.0, x_test / 255.0\n",
        "y_train, y_test = to_categorical(y_train, 10), to_categorical(y_test, 10)\n",
        "\n",
        "num_classes = 10\n",
        "learning_rate = 0.001\n",
        "batch_size = 64\n",
        "epochs = 10\n",
        "\n",
        "model = DenseNet('densenet121', num_classes)\n",
        "\n",
        "model.compile(optimizer=Adam(learning_rate=learning_rate),\n",
        "              loss='categorical_crossentropy',\n",
        "              metrics=['accuracy'])\n",
        "\n",
        "model.fit(x_train, y_train,\n",
        "          batch_size=batch_size,\n",
        "          epochs=epochs,\n",
        "          validation_data=(x_test, y_test))"
      ]
    },
    {
      "cell_type": "markdown",
      "metadata": {
        "id": "SHwrHXsRQgHF"
      },
      "source": [
        "# AlexNet"
      ]
    },
    {
      "cell_type": "code",
      "execution_count": 7,
      "metadata": {
        "colab": {
          "base_uri": "https://localhost:8080/",
          "height": 228
        },
        "execution": {
          "iopub.execute_input": "2023-10-09T06:14:13.357252Z",
          "iopub.status.busy": "2023-10-09T06:14:13.356877Z",
          "iopub.status.idle": "2023-10-09T06:14:13.405884Z",
          "shell.execute_reply": "2023-10-09T06:14:13.405061Z",
          "shell.execute_reply.started": "2023-10-09T06:14:13.357223Z"
        },
        "id": "dh6kKFT-QgHF",
        "outputId": "2274aabe-4595-4efc-d9cf-9577cc619ebf",
        "trusted": true
      },
      "outputs": [
        {
          "ename": "NameError",
          "evalue": "ignored",
          "output_type": "error",
          "traceback": [
            "\u001b[0;31m---------------------------------------------------------------------------\u001b[0m",
            "\u001b[0;31mNameError\u001b[0m                                 Traceback (most recent call last)",
            "\u001b[0;32m<ipython-input-7-ad085611baf8>\u001b[0m in \u001b[0;36m<cell line: 51>\u001b[0;34m()\u001b[0m\n\u001b[1;32m     49\u001b[0m \u001b[0mimg_input\u001b[0m \u001b[0;34m=\u001b[0m \u001b[0mInput\u001b[0m\u001b[0;34m(\u001b[0m\u001b[0mshape\u001b[0m\u001b[0;34m=\u001b[0m\u001b[0;34m(\u001b[0m\u001b[0;36m32\u001b[0m\u001b[0;34m,\u001b[0m \u001b[0;36m32\u001b[0m\u001b[0;34m,\u001b[0m \u001b[0;36m3\u001b[0m\u001b[0;34m)\u001b[0m\u001b[0;34m)\u001b[0m\u001b[0;34m\u001b[0m\u001b[0;34m\u001b[0m\u001b[0m\n\u001b[1;32m     50\u001b[0m \u001b[0moutput\u001b[0m \u001b[0;34m=\u001b[0m \u001b[0malexnet\u001b[0m\u001b[0;34m(\u001b[0m\u001b[0mimg_input\u001b[0m\u001b[0;34m)\u001b[0m\u001b[0;34m\u001b[0m\u001b[0;34m\u001b[0m\u001b[0m\n\u001b[0;32m---> 51\u001b[0;31m \u001b[0malexnet\u001b[0m \u001b[0;34m=\u001b[0m \u001b[0mModel\u001b[0m\u001b[0;34m(\u001b[0m\u001b[0mimg_input\u001b[0m\u001b[0;34m,\u001b[0m \u001b[0moutput\u001b[0m\u001b[0;34m)\u001b[0m\u001b[0;34m\u001b[0m\u001b[0;34m\u001b[0m\u001b[0m\n\u001b[0m\u001b[1;32m     52\u001b[0m \u001b[0malexnet\u001b[0m\u001b[0;34m.\u001b[0m\u001b[0msummary\u001b[0m\u001b[0;34m(\u001b[0m\u001b[0;34m)\u001b[0m\u001b[0;34m\u001b[0m\u001b[0;34m\u001b[0m\u001b[0m\n",
            "\u001b[0;31mNameError\u001b[0m: name 'Model' is not defined"
          ]
        }
      ],
      "source": [
        "import tensorflow as tf\n",
        "from tensorflow.keras.models import Sequential\n",
        "from tensorflow.keras.layers import Conv2D,MaxPool2D,Dense,Flatten,Dropout,Input, AveragePooling2D, Activation,Conv2D, MaxPooling2D, BatchNormalization,Concatenate\n",
        "from tensorflow.keras.callbacks import EarlyStopping, TensorBoard\n",
        "from tensorflow.keras import regularizers, optimizers\n",
        "from tensorflow.keras.preprocessing.image import ImageDataGenerator\n",
        "from tensorflow.keras import datasets, layers, models, losses\n",
        "\n",
        "def alexnet(img_input, classes=10):\n",
        "  # 1st conv layer\n",
        "  x = Conv2D(96, (11, 11), strides=(4, 4), padding='same', activation='relu', kernel_initializer='uniform')(img_input)  # valid\n",
        "  x = MaxPooling2D(pool_size=(3, 3), strides=(2, 2), padding='same')(x)\n",
        "  x = BatchNormalization()(x)\n",
        "\n",
        "  # 2nd conv layer\n",
        "  x = Conv2D(256, (5, 5), strides=(1, 1), padding='same', activation='relu', kernel_initializer='uniform')(x)\n",
        "  x = MaxPooling2D(pool_size=(3, 3), strides=(2, 2), padding='same')(x)\n",
        "  x = BatchNormalization()(x)\n",
        "\n",
        "  # 3rd conv layer\n",
        "  x = Conv2D(384, (3, 3), strides=(1, 1), padding='same', activation='relu', kernel_initializer='uniform')(x)\n",
        "  x = BatchNormalization()(x)\n",
        "\n",
        "  # 4th conv layer\n",
        "  x = Conv2D(384, (3, 3), strides=(1, 1), padding='same', activation='relu', kernel_initializer='uniform')(x)\n",
        "  x = BatchNormalization()(x)\n",
        "\n",
        "  # 5th conv layer\n",
        "  x = Conv2D(256, (3, 3), strides=(1, 1), padding='same', activation='relu', kernel_initializer='uniform')(x)\n",
        "  x = MaxPooling2D(pool_size=(3, 3), strides=(2, 2), padding='same')(x)\n",
        "  x = BatchNormalization()(x)\n",
        "\n",
        "  # flattening before sending to fully connected layers\n",
        "  x = Flatten()(x)\n",
        "  # fully connected layers\n",
        "  x = Dense(4096, activation='relu')(x)\n",
        "  x = Dropout(0.5)(x)\n",
        "  x = BatchNormalization()(x)\n",
        "  x = Dense(1000, activation='relu')(x)\n",
        "  x = Dropout(0.5)(x)\n",
        "  x = BatchNormalization()(x)\n",
        "\n",
        "  # output layer\n",
        "  out = Dense(classes, activation='softmax')(x)\n",
        "  return out\n",
        "\n",
        "\n",
        "# defining input image size according to cifar10\n",
        "img_input = Input(shape=(32, 32, 3))\n",
        "output = alexnet(img_input)\n",
        "alexnet = Model(img_input, output)\n",
        "alexnet.summary()"
      ]
    },
    {
      "cell_type": "code",
      "execution_count": 8,
      "metadata": {
        "colab": {
          "base_uri": "https://localhost:8080/",
          "height": 228
        },
        "execution": {
          "iopub.execute_input": "2023-10-09T06:14:16.268989Z",
          "iopub.status.busy": "2023-10-09T06:14:16.268535Z",
          "iopub.status.idle": "2023-10-09T06:14:16.300825Z",
          "shell.execute_reply": "2023-10-09T06:14:16.299992Z",
          "shell.execute_reply.started": "2023-10-09T06:14:16.268906Z"
        },
        "id": "r0VCByzVQgHF",
        "outputId": "26cec56f-accf-4813-fb13-c03a0f0fe568",
        "trusted": true
      },
      "outputs": [
        {
          "ename": "AttributeError",
          "evalue": "ignored",
          "output_type": "error",
          "traceback": [
            "\u001b[0;31m---------------------------------------------------------------------------\u001b[0m",
            "\u001b[0;31mAttributeError\u001b[0m                            Traceback (most recent call last)",
            "\u001b[0;32m<ipython-input-8-7d775e0b4a36>\u001b[0m in \u001b[0;36m<cell line: 9>\u001b[0;34m()\u001b[0m\n\u001b[1;32m      7\u001b[0m     \u001b[0mamsgrad\u001b[0m\u001b[0;34m=\u001b[0m\u001b[0;32mFalse\u001b[0m\u001b[0;34m,\u001b[0m\u001b[0;34m\u001b[0m\u001b[0;34m\u001b[0m\u001b[0m\n\u001b[1;32m      8\u001b[0m     name='Adam')\n\u001b[0;32m----> 9\u001b[0;31m \u001b[0malexnet\u001b[0m\u001b[0;34m.\u001b[0m\u001b[0mcompile\u001b[0m\u001b[0;34m(\u001b[0m\u001b[0mloss\u001b[0m\u001b[0;34m=\u001b[0m\u001b[0;34m'categorical_crossentropy'\u001b[0m\u001b[0;34m,\u001b[0m\u001b[0moptimizer\u001b[0m\u001b[0;34m=\u001b[0m\u001b[0mopt\u001b[0m\u001b[0;34m,\u001b[0m\u001b[0mmetrics\u001b[0m\u001b[0;34m=\u001b[0m\u001b[0;34m[\u001b[0m\u001b[0;34m'accuracy'\u001b[0m\u001b[0;34m]\u001b[0m\u001b[0;34m)\u001b[0m\u001b[0;34m\u001b[0m\u001b[0;34m\u001b[0m\u001b[0m\n\u001b[0m\u001b[1;32m     10\u001b[0m \u001b[0malexnet\u001b[0m\u001b[0;34m.\u001b[0m\u001b[0msummary\u001b[0m\u001b[0;34m(\u001b[0m\u001b[0;34m)\u001b[0m\u001b[0;34m\u001b[0m\u001b[0;34m\u001b[0m\u001b[0m\n",
            "\u001b[0;31mAttributeError\u001b[0m: 'function' object has no attribute 'compile'"
          ]
        }
      ],
      "source": [
        "from tensorflow.keras.optimizers import Adam\n",
        "opt = Adam(\n",
        "    learning_rate=0.0002,\n",
        "    beta_1=0.96,\n",
        "    beta_2=0.9994,\n",
        "    epsilon=4e-08,\n",
        "    amsgrad=False,\n",
        "    name='Adam')\n",
        "alexnet.compile(loss='categorical_crossentropy',optimizer=opt,metrics=['accuracy'])\n",
        "alexnet.summary()"
      ]
    },
    {
      "cell_type": "code",
      "execution_count": null,
      "metadata": {
        "execution": {
          "iopub.execute_input": "2023-10-09T06:14:18.688281Z",
          "iopub.status.busy": "2023-10-09T06:14:18.687787Z",
          "iopub.status.idle": "2023-10-09T06:18:53.193479Z",
          "shell.execute_reply": "2023-10-09T06:18:53.192470Z",
          "shell.execute_reply.started": "2023-10-09T06:14:18.688241Z"
        },
        "id": "9Aadzm0qQgHF",
        "trusted": true
      },
      "outputs": [],
      "source": [
        "history = alexnet.fit(x_train,y_train_cat,epochs=20,validation_data=(x_test,y_test_cat))\n",
        "evaluation = alexnet.evaluate(x_test, y_test_cat)\n",
        "print('Test Accuracy: {}'.format(evaluation[1]))"
      ]
    },
    {
      "cell_type": "code",
      "execution_count": null,
      "metadata": {
        "execution": {
          "iopub.execute_input": "2023-10-09T06:18:53.196620Z",
          "iopub.status.busy": "2023-10-09T06:18:53.195250Z",
          "iopub.status.idle": "2023-10-09T06:18:54.855905Z",
          "shell.execute_reply": "2023-10-09T06:18:54.854812Z",
          "shell.execute_reply.started": "2023-10-09T06:18:53.196583Z"
        },
        "id": "_7cCGP0xQgHF",
        "trusted": true
      },
      "outputs": [],
      "source": [
        "evaluation = alexnet.evaluate(x_test, y_test_cat)\n",
        "print('Test Accuracy: {}'.format(evaluation[1]))\n"
      ]
    },
    {
      "cell_type": "code",
      "execution_count": null,
      "metadata": {
        "execution": {
          "iopub.execute_input": "2023-10-09T06:35:14.140992Z",
          "iopub.status.busy": "2023-10-09T06:35:14.140613Z",
          "iopub.status.idle": "2023-10-09T06:35:14.391514Z",
          "shell.execute_reply": "2023-10-09T06:35:14.390326Z",
          "shell.execute_reply.started": "2023-10-09T06:35:14.140933Z"
        },
        "id": "YPAzPUbuQgHG",
        "trusted": true
      },
      "outputs": [],
      "source": [
        "import matplotlib.pyplot as plt\n",
        "# Vẽ biểu đồ accuracy và loss trong quá trình huấn luyện\n",
        "plt.figure(figsize=(12, 6))\n",
        "plt.plot(history.history['accuracy'], label='Training Accuracy')\n",
        "plt.plot(history.history['val_accuracy'], label='Validation Accuracy')\n",
        "plt.xlabel('Epoch')\n",
        "plt.ylabel('Accuracy')\n",
        "plt.legend()"
      ]
    },
    {
      "cell_type": "code",
      "execution_count": null,
      "metadata": {
        "execution": {
          "iopub.execute_input": "2023-10-09T06:35:29.950712Z",
          "iopub.status.busy": "2023-10-09T06:35:29.950373Z",
          "iopub.status.idle": "2023-10-09T06:35:30.184883Z",
          "shell.execute_reply": "2023-10-09T06:35:30.183988Z",
          "shell.execute_reply.started": "2023-10-09T06:35:29.950685Z"
        },
        "id": "iMPoQ84yQgHG",
        "trusted": true
      },
      "outputs": [],
      "source": [
        "plt.figure(figsize=(12, 6))\n",
        "plt.plot(history.history['loss'], label='Training Loss')\n",
        "plt.plot(history.history['val_loss'], label='Validation Loss')\n",
        "plt.xlabel('Epoch')\n",
        "plt.ylabel('Loss')\n",
        "plt.legend()\n",
        "plt.show()"
      ]
    }
  ],
  "metadata": {
    "accelerator": "GPU",
    "colab": {
      "gpuType": "T4",
      "provenance": []
    },
    "kernelspec": {
      "display_name": "Python 3",
      "name": "python3"
    },
    "language_info": {
      "codemirror_mode": {
        "name": "ipython",
        "version": 3
      },
      "file_extension": ".py",
      "mimetype": "text/x-python",
      "name": "python",
      "nbconvert_exporter": "python",
      "pygments_lexer": "ipython3",
      "version": "3.11.5"
    }
  },
  "nbformat": 4,
  "nbformat_minor": 0
}
